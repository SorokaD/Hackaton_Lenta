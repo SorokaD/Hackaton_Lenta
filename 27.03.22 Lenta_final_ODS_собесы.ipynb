{
 "cells": [
  {
   "cell_type": "markdown",
   "id": "b4b64ebf",
   "metadata": {},
   "source": [
    "## Импортируем необходимые библиотеки"
   ]
  },
  {
   "cell_type": "code",
   "execution_count": 1,
   "id": "c2261573",
   "metadata": {},
   "outputs": [],
   "source": [
    "import pandas as pd\n",
    "import numpy as np\n",
    "import gc\n",
    "from tqdm.notebook import tqdm"
   ]
  },
  {
   "cell_type": "markdown",
   "id": "90838da0",
   "metadata": {},
   "source": [
    "## Загрузим данные"
   ]
  },
  {
   "cell_type": "code",
   "execution_count": 2,
   "id": "a53027bf",
   "metadata": {},
   "outputs": [],
   "source": [
    "hist_data = pd.read_csv('hist_data.csv')"
   ]
  },
  {
   "cell_type": "markdown",
   "id": "637c1b4d",
   "metadata": {},
   "source": [
    "## Добавим в наш хист_фрейм столбец с частотой повторений/встречаемостью item_id"
   ]
  },
  {
   "cell_type": "code",
   "execution_count": 3,
   "id": "d7922353",
   "metadata": {},
   "outputs": [],
   "source": [
    "# добавим в наш хист_фрейм столбец с частотой повторений item_id\n",
    "item_freq=hist_data.item_id.value_counts().to_frame()\n",
    "item_freq['id']=item_freq.index\n",
    "item_freq.rename(columns={'item_id':'item_freq', 'id':'item_id'},inplace=True)\n",
    "hist_data_freq = hist_data.set_index('item_id').join(item_freq.set_index('item_id'))\n",
    "hist_data_freq['item_id']=hist_data_freq.index\n",
    "hist_data_freq.reset_index(drop=True, inplace=True)"
   ]
  },
  {
   "cell_type": "code",
   "execution_count": 4,
   "id": "2fd225d8",
   "metadata": {},
   "outputs": [
    {
     "data": {
      "text/html": [
       "<div>\n",
       "<style scoped>\n",
       "    .dataframe tbody tr th:only-of-type {\n",
       "        vertical-align: middle;\n",
       "    }\n",
       "\n",
       "    .dataframe tbody tr th {\n",
       "        vertical-align: top;\n",
       "    }\n",
       "\n",
       "    .dataframe thead th {\n",
       "        text-align: right;\n",
       "    }\n",
       "</style>\n",
       "<table border=\"1\" class=\"dataframe\">\n",
       "  <thead>\n",
       "    <tr style=\"text-align: right;\">\n",
       "      <th></th>\n",
       "      <th>buyer_id</th>\n",
       "      <th>pav_order_id</th>\n",
       "      <th>created</th>\n",
       "      <th>count</th>\n",
       "      <th>price_sold</th>\n",
       "      <th>flag_weight_goods</th>\n",
       "      <th>weight</th>\n",
       "      <th>item_freq</th>\n",
       "      <th>item_id</th>\n",
       "    </tr>\n",
       "  </thead>\n",
       "  <tbody>\n",
       "    <tr>\n",
       "      <th>0</th>\n",
       "      <td>95898494</td>\n",
       "      <td>98506705682</td>\n",
       "      <td>2021-07-01 11:55:59</td>\n",
       "      <td>1.0</td>\n",
       "      <td>14.99</td>\n",
       "      <td>False</td>\n",
       "      <td>10.31</td>\n",
       "      <td>83</td>\n",
       "      <td>202782406</td>\n",
       "    </tr>\n",
       "    <tr>\n",
       "      <th>1</th>\n",
       "      <td>95455775</td>\n",
       "      <td>98506807836</td>\n",
       "      <td>2021-07-01 18:40:46</td>\n",
       "      <td>5.0</td>\n",
       "      <td>14.99</td>\n",
       "      <td>False</td>\n",
       "      <td>6.96</td>\n",
       "      <td>83</td>\n",
       "      <td>202782406</td>\n",
       "    </tr>\n",
       "    <tr>\n",
       "      <th>2</th>\n",
       "      <td>95031957</td>\n",
       "      <td>98506929275</td>\n",
       "      <td>2021-07-02 12:17:41</td>\n",
       "      <td>1.0</td>\n",
       "      <td>14.99</td>\n",
       "      <td>False</td>\n",
       "      <td>9.41</td>\n",
       "      <td>83</td>\n",
       "      <td>202782406</td>\n",
       "    </tr>\n",
       "    <tr>\n",
       "      <th>3</th>\n",
       "      <td>95458981</td>\n",
       "      <td>98507248917</td>\n",
       "      <td>2021-07-03 16:48:16</td>\n",
       "      <td>2.0</td>\n",
       "      <td>14.99</td>\n",
       "      <td>False</td>\n",
       "      <td>15.75</td>\n",
       "      <td>83</td>\n",
       "      <td>202782406</td>\n",
       "    </tr>\n",
       "    <tr>\n",
       "      <th>4</th>\n",
       "      <td>95949542</td>\n",
       "      <td>98507339539</td>\n",
       "      <td>2021-07-04 07:28:13</td>\n",
       "      <td>4.0</td>\n",
       "      <td>12.09</td>\n",
       "      <td>False</td>\n",
       "      <td>11.13</td>\n",
       "      <td>83</td>\n",
       "      <td>202782406</td>\n",
       "    </tr>\n",
       "  </tbody>\n",
       "</table>\n",
       "</div>"
      ],
      "text/plain": [
       "   buyer_id  pav_order_id              created  count  price_sold  \\\n",
       "0  95898494   98506705682  2021-07-01 11:55:59    1.0       14.99   \n",
       "1  95455775   98506807836  2021-07-01 18:40:46    5.0       14.99   \n",
       "2  95031957   98506929275  2021-07-02 12:17:41    1.0       14.99   \n",
       "3  95458981   98507248917  2021-07-03 16:48:16    2.0       14.99   \n",
       "4  95949542   98507339539  2021-07-04 07:28:13    4.0       12.09   \n",
       "\n",
       "   flag_weight_goods  weight  item_freq    item_id  \n",
       "0              False   10.31         83  202782406  \n",
       "1              False    6.96         83  202782406  \n",
       "2              False    9.41         83  202782406  \n",
       "3              False   15.75         83  202782406  \n",
       "4              False   11.13         83  202782406  "
      ]
     },
     "execution_count": 4,
     "metadata": {},
     "output_type": "execute_result"
    }
   ],
   "source": [
    "hist_data_freq.head()"
   ]
  },
  {
   "cell_type": "markdown",
   "id": "27a30af7",
   "metadata": {},
   "source": [
    "## Воспользуемся предлагаемым baseline'ом"
   ]
  },
  {
   "cell_type": "code",
   "execution_count": 13,
   "id": "5b78e7aa",
   "metadata": {},
   "outputs": [],
   "source": [
    "# Пример решения с использованием статистического подхода - подсчет \n",
    "# совстречаемостей.\n",
    "\n",
    "import pandas as pd\n",
    "import numpy as np\n",
    "import gc\n",
    "\n",
    "from collections import Counter \n",
    "\n",
    "hist_data = pd.read_csv('hist_data.csv')\n",
    "\n",
    "# соберем словарь встречаемостей - какие item_id покупались чаще с \n",
    "# каждым item_id \n",
    "tmp = (\n",
    "    hist_data[['item_id', 'pav_order_id']]\n",
    "    .sort_values(['item_id', 'pav_order_id'])\n",
    "    .merge(hist_data[['item_id', 'pav_order_id']], how='left', on=['pav_order_id'], suffixes=('', '_left'))\n",
    ")\n",
    "tmp = tmp[tmp['item_id'] != tmp['item_id_left']].copy()\n",
    "tmp1 = tmp.groupby(['item_id'])['item_id_left'].agg(lambda x: Counter(x).most_common(10))\n",
    "\n",
    "most_freq_dict = {k: v for (k, v) in tmp1.iteritems()}\n",
    "\n",
    "del tmp1, tmp\n",
    "gc.collect()\n",
    "\n",
    "test = pd.read_csv('test.csv')\n",
    "\n",
    "# из списка кандидатов по совстречаемости удаляем повторяющиеся item_id, \n",
    "# сохраняя порядок\n",
    "def get_unique_recs(recs: list, top_n: int) -> list:\n",
    "    rec_dict = {}\n",
    "    counter = 0\n",
    "    for k, v in recs:\n",
    "        if k not in rec_dict:\n",
    "            rec_dict[k] = v\n",
    "            counter += 1\n",
    "        if counter == top_n:\n",
    "            break\n",
    "    return list(rec_dict.keys())\n",
    "\n",
    "def rec_by_item(item_id: int, most_freq_dict: dict) -> list:\n",
    "    \n",
    "    return most_freq_dict.get(item_id, None)\n",
    "\n",
    "# для каждого item_id соберем top_n самых часто встречающихся item_id, \n",
    "# отсортируем по частоте и выберем уникальные\n",
    "def rec_by_basket(basket: list, most_freq_dict: dict, top_n: int = 20) -> list:\n",
    "    \n",
    "    res = []\n",
    "    for item in basket:\n",
    "        recs = rec_by_item(item, most_freq_dict)\n",
    "        if recs is not None:\n",
    "            res += recs\n",
    "    \n",
    "    res = sorted(res, key=lambda x: x[1], reverse=True)\n",
    "    \n",
    "    return get_unique_recs(res, top_n)\n",
    "\n",
    "pred = test.groupby(['pav_order_id'])['item_id'].agg([('basket', list)])\n",
    "pred['preds'] = pred['basket'].map(lambda x: rec_by_basket(x, most_freq_dict=most_freq_dict))\n",
    "\n",
    "pred['preds'].to_csv('pred.csv')"
   ]
  },
  {
   "cell_type": "markdown",
   "id": "7123d990",
   "metadata": {},
   "source": [
    "Воспользуемся полученым предсказанием/датафреймом pred.  \n",
    "В этом предсказании всем товарам в корзине (из тестового набора) рекомендуются наиболее часто встречающиеся (за историю) товары \"спутники\", отсортированные по частоте встречаемости.  \n",
    "Предположим что, для покупателей которые с нами уже работали, рекомендацию можно формировать на основании истории их покупок. Найдем/выделим в фрейме pred покупателей с которыми у нас есть история и сделаем/скорректируем для них рекомендации опираясь на те товары (отрагжируем списки) которые они уже покупали у нас."
   ]
  },
  {
   "cell_type": "code",
   "execution_count": 29,
   "id": "92cda269",
   "metadata": {},
   "outputs": [
    {
     "data": {
      "text/html": [
       "<div>\n",
       "<style scoped>\n",
       "    .dataframe tbody tr th:only-of-type {\n",
       "        vertical-align: middle;\n",
       "    }\n",
       "\n",
       "    .dataframe tbody tr th {\n",
       "        vertical-align: top;\n",
       "    }\n",
       "\n",
       "    .dataframe thead th {\n",
       "        text-align: right;\n",
       "    }\n",
       "</style>\n",
       "<table border=\"1\" class=\"dataframe\">\n",
       "  <thead>\n",
       "    <tr style=\"text-align: right;\">\n",
       "      <th></th>\n",
       "      <th>basket</th>\n",
       "      <th>preds</th>\n",
       "    </tr>\n",
       "    <tr>\n",
       "      <th>pav_order_id</th>\n",
       "      <th></th>\n",
       "      <th></th>\n",
       "    </tr>\n",
       "  </thead>\n",
       "  <tbody>\n",
       "    <tr>\n",
       "      <th>4620121489</th>\n",
       "      <td>[203164283, 204043498, 204146308, 204119602, 2...</td>\n",
       "      <td>[202820148, 202872237, 202791620, 202809628, 2...</td>\n",
       "    </tr>\n",
       "    <tr>\n",
       "      <th>4620121505</th>\n",
       "      <td>[202819114, 204074914, 202822471, 202880254, 2...</td>\n",
       "      <td>[202820148, 202872237, 202880262, 203068900, 2...</td>\n",
       "    </tr>\n",
       "    <tr>\n",
       "      <th>4620121594</th>\n",
       "      <td>[202818687, 203430473, 204016498, 203017711, 2...</td>\n",
       "      <td>[202820148, 202872237, 203059303, 202809628, 2...</td>\n",
       "    </tr>\n",
       "    <tr>\n",
       "      <th>4620121684</th>\n",
       "      <td>[203338264, 203436378, 203433668, 202812161, 2...</td>\n",
       "      <td>[202820148, 202872237, 203090014, 203090010, 2...</td>\n",
       "    </tr>\n",
       "    <tr>\n",
       "      <th>4620121902</th>\n",
       "      <td>[205768202, 202811971, 203429467, 204393593, 2...</td>\n",
       "      <td>[202820148, 203422957, 203431923, 202872237, 2...</td>\n",
       "    </tr>\n",
       "  </tbody>\n",
       "</table>\n",
       "</div>"
      ],
      "text/plain": [
       "                                                         basket  \\\n",
       "pav_order_id                                                      \n",
       "4620121489    [203164283, 204043498, 204146308, 204119602, 2...   \n",
       "4620121505    [202819114, 204074914, 202822471, 202880254, 2...   \n",
       "4620121594    [202818687, 203430473, 204016498, 203017711, 2...   \n",
       "4620121684    [203338264, 203436378, 203433668, 202812161, 2...   \n",
       "4620121902    [205768202, 202811971, 203429467, 204393593, 2...   \n",
       "\n",
       "                                                          preds  \n",
       "pav_order_id                                                     \n",
       "4620121489    [202820148, 202872237, 202791620, 202809628, 2...  \n",
       "4620121505    [202820148, 202872237, 202880262, 203068900, 2...  \n",
       "4620121594    [202820148, 202872237, 203059303, 202809628, 2...  \n",
       "4620121684    [202820148, 202872237, 203090014, 203090010, 2...  \n",
       "4620121902    [202820148, 203422957, 203431923, 202872237, 2...  "
      ]
     },
     "execution_count": 29,
     "metadata": {},
     "output_type": "execute_result"
    }
   ],
   "source": [
    "# обновим pred (можно не делать)\n",
    "pred = test.groupby(['pav_order_id'])['item_id'].agg([('basket', list)])\n",
    "pred['preds'] = pred['basket'].map(lambda x: rec_by_basket(x, most_freq_dict=most_freq_dict))\n",
    "pred.head()"
   ]
  },
  {
   "cell_type": "code",
   "execution_count": 30,
   "id": "a835bca1",
   "metadata": {},
   "outputs": [
    {
     "data": {
      "text/html": [
       "<div>\n",
       "<style scoped>\n",
       "    .dataframe tbody tr th:only-of-type {\n",
       "        vertical-align: middle;\n",
       "    }\n",
       "\n",
       "    .dataframe tbody tr th {\n",
       "        vertical-align: top;\n",
       "    }\n",
       "\n",
       "    .dataframe thead th {\n",
       "        text-align: right;\n",
       "    }\n",
       "</style>\n",
       "<table border=\"1\" class=\"dataframe\">\n",
       "  <thead>\n",
       "    <tr style=\"text-align: right;\">\n",
       "      <th></th>\n",
       "      <th>basket</th>\n",
       "      <th>preds</th>\n",
       "      <th>pav_order_id</th>\n",
       "      <th>buyer_id</th>\n",
       "    </tr>\n",
       "  </thead>\n",
       "  <tbody>\n",
       "    <tr>\n",
       "      <th>0</th>\n",
       "      <td>[203164283, 204043498, 204146308, 204119602, 2...</td>\n",
       "      <td>[202820148, 202872237, 202791620, 202809628, 2...</td>\n",
       "      <td>4620121489</td>\n",
       "      <td>95969605</td>\n",
       "    </tr>\n",
       "    <tr>\n",
       "      <th>1</th>\n",
       "      <td>[202819114, 204074914, 202822471, 202880254, 2...</td>\n",
       "      <td>[202820148, 202872237, 202880262, 203068900, 2...</td>\n",
       "      <td>4620121505</td>\n",
       "      <td>95823859</td>\n",
       "    </tr>\n",
       "    <tr>\n",
       "      <th>2</th>\n",
       "      <td>[202818687, 203430473, 204016498, 203017711, 2...</td>\n",
       "      <td>[202820148, 202872237, 203059303, 202809628, 2...</td>\n",
       "      <td>4620121594</td>\n",
       "      <td>95487550</td>\n",
       "    </tr>\n",
       "    <tr>\n",
       "      <th>3</th>\n",
       "      <td>[203338264, 203436378, 203433668, 202812161, 2...</td>\n",
       "      <td>[202820148, 202872237, 203090014, 203090010, 2...</td>\n",
       "      <td>4620121684</td>\n",
       "      <td>95970193</td>\n",
       "    </tr>\n",
       "    <tr>\n",
       "      <th>4</th>\n",
       "      <td>[205768202, 202811971, 203429467, 204393593, 2...</td>\n",
       "      <td>[202820148, 203422957, 203431923, 202872237, 2...</td>\n",
       "      <td>4620121902</td>\n",
       "      <td>95803805</td>\n",
       "    </tr>\n",
       "  </tbody>\n",
       "</table>\n",
       "</div>"
      ],
      "text/plain": [
       "                                              basket  \\\n",
       "0  [203164283, 204043498, 204146308, 204119602, 2...   \n",
       "1  [202819114, 204074914, 202822471, 202880254, 2...   \n",
       "2  [202818687, 203430473, 204016498, 203017711, 2...   \n",
       "3  [203338264, 203436378, 203433668, 202812161, 2...   \n",
       "4  [205768202, 202811971, 203429467, 204393593, 2...   \n",
       "\n",
       "                                               preds  pav_order_id  buyer_id  \n",
       "0  [202820148, 202872237, 202791620, 202809628, 2...    4620121489  95969605  \n",
       "1  [202820148, 202872237, 202880262, 203068900, 2...    4620121505  95823859  \n",
       "2  [202820148, 202872237, 203059303, 202809628, 2...    4620121594  95487550  \n",
       "3  [202820148, 202872237, 203090014, 203090010, 2...    4620121684  95970193  \n",
       "4  [202820148, 203422957, 203431923, 202872237, 2...    4620121902  95803805  "
      ]
     },
     "execution_count": 30,
     "metadata": {},
     "output_type": "execute_result"
    }
   ],
   "source": [
    "# выведем столбец pav_order_id из индексного в столбец dataframe\n",
    "pred['pav_order_id']=pred.index\n",
    "# сброисм индексы \n",
    "pred.reset_index(drop=True, inplace=True)\n",
    "# смержим датафреймы pred и test\n",
    "pred_temp=pd.merge(pred,test[['pav_order_id', 'buyer_id']], left_on='pav_order_id', right_on='pav_order_id', how='outer')\n",
    "pred_temp=pred_temp[['pav_order_id','buyer_id']].drop_duplicates()\n",
    "pred_new=pd.merge(pred,pred_temp[['pav_order_id', 'buyer_id']], left_on='pav_order_id', right_on='pav_order_id', how='outer')\n",
    "pred_new.head()"
   ]
  },
  {
   "cell_type": "code",
   "execution_count": 31,
   "id": "72108520",
   "metadata": {},
   "outputs": [],
   "source": [
    "# найдем топ-10 самых популярных/продаваемых товаров и будем \"добивать\" ими рекомендации, в случае неспособности модели сформировать именно 20 рекомендаций\n",
    "top_10=hist_data['item_id'].value_counts().index.to_list()[0:20]"
   ]
  },
  {
   "cell_type": "code",
   "execution_count": 143,
   "id": "bca3a230",
   "metadata": {},
   "outputs": [
    {
     "data": {
      "application/vnd.jupyter.widget-view+json": {
       "model_id": "3d73a318543e45c292f3d3ac9468011d",
       "version_major": 2,
       "version_minor": 0
      },
      "text/plain": [
       "  0%|          | 0/80244 [00:00<?, ?it/s]"
      ]
     },
     "metadata": {},
     "output_type": "display_data"
    }
   ],
   "source": [
    "# Скорректируем pred датафрейм\n",
    "# расчеты занимают 4+ аса\n",
    "for i in tqdm(range(len(pred_new))):\n",
    "    if pred_new.iloc[i,3] in hist_data_freq.buyer_id.value_counts().index.tolist(): \n",
    "        br=pred_new.iloc[i,3]\n",
    "        t1=hist_data_freq.query('buyer_id==@br')\n",
    "        t2=t1.groupby('item_id').agg(sum)\n",
    "        t3=t2.sort_values(['count', 'item_freq'],ascending=False)\n",
    "        t3['item_id']=t3.index\n",
    "        t3.reset_index(drop=True, inplace=True)\n",
    "        basket=pred_new.iloc[i,0]\n",
    "        t3=t3.query(\"item_id not in @basket\").iloc[:20, 7].tolist()\n",
    "        t3.extend(top_10)\n",
    "        pred_new.iat[i, pred_new.columns.get_loc('preds')] = t3[0:20]\n",
    "\n",
    "            "
   ]
  },
  {
   "cell_type": "markdown",
   "id": "00f08487",
   "metadata": {},
   "source": [
    "Поправим (до требуемого формата) итоговый датафрейм, для того что бы можно было загрузить на сайт"
   ]
  },
  {
   "cell_type": "code",
   "execution_count": 32,
   "id": "c1222ff8",
   "metadata": {},
   "outputs": [],
   "source": [
    "pred_new.index=pred_new.pav_order_id.tolist()\n",
    "pred_new.index=pred_new['pav_order_id'].to_list()\n",
    "pred_new.index.rename('pav_order_id', inplace=True)\n",
    "pred_new['preds'].head()"
   ]
  },
  {
   "cell_type": "code",
   "execution_count": 156,
   "id": "e7463c9d",
   "metadata": {},
   "outputs": [],
   "source": [
    "pred_new['preds'].to_csv('pred.csv')"
   ]
  }
 ],
 "metadata": {
  "kernelspec": {
   "display_name": "Python 3",
   "language": "python",
   "name": "python3"
  },
  "language_info": {
   "codemirror_mode": {
    "name": "ipython",
    "version": 3
   },
   "file_extension": ".py",
   "mimetype": "text/x-python",
   "name": "python",
   "nbconvert_exporter": "python",
   "pygments_lexer": "ipython3",
   "version": "3.9.7"
  }
 },
 "nbformat": 4,
 "nbformat_minor": 5
}
